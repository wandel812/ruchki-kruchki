{
 "cells": [
  {
   "cell_type": "code",
   "execution_count": 1,
   "metadata": {},
   "outputs": [],
   "source": [
    "from pathlib import Path\r\n",
    "import glob \r\n",
    "\r\n",
    "import numpy as np\r\n",
    "import pandas as pd \r\n",
    "import matplotlib.pyplot as plt\r\n",
    "import seaborn as sns\r\n",
    "\r\n",
    "from sklearn.model_selection import train_test_split, cross_val_score\r\n",
    "from sklearn.neighbors import KNeighborsClassifier\r\n",
    "from sklearn.preprocessing import StandardScaler\r\n",
    "from sklearn.metrics import confusion_matrix, accuracy_score, precision_score, recall_score, f1_score, classification_report\r\n",
    "\r\n",
    "import cv2\r\n",
    "import mediapipe as mp\r\n",
    "\r\n",
    "mp_drawing = mp.solutions.drawing_utils\r\n",
    "mp_hands = mp.solutions.hands"
   ]
  },
  {
   "cell_type": "code",
   "execution_count": 2,
   "metadata": {},
   "outputs": [],
   "source": [
    "def extract_features_from_images(img_paths, labels, save_dir_path=None):\r\n",
    "    df = pd.DataFrame(columns=labels)\r\n",
    "    skipped_imgs = []\r\n",
    "\r\n",
    "    hands =  mp_hands.Hands(static_image_mode=True, \r\n",
    "                        max_num_hands=1, \r\n",
    "                        min_detection_confidence=0.5)\r\n",
    "\r\n",
    "    for idx, img_path in enumerate(img_paths):\r\n",
    "        multihand_landmarks = extract_multihand_landmarks(hands, img_path)\r\n",
    "\r\n",
    "        if not multihand_landmarks:\r\n",
    "            skipped_imgs.append(img_path)\r\n",
    "            continue\r\n",
    "        \r\n",
    "        first_hand_landmarks = multihand_landmarks[0]\r\n",
    "        df.loc[idx] = create_df_series_from_landmarks(first_hand_landmarks, df.columns)\r\n",
    "\r\n",
    "        if save_dir_path is not None:\r\n",
    "            save_annotated_image(img_path, save_dir_path, first_hand_landmarks)\r\n",
    "\r\n",
    "    print(f\"skipped_images_count={len(skipped_imgs)}\\n{skipped_imgs}\")    \r\n",
    "    return df\r\n",
    "\r\n",
    "def append_landmarks_to_df(df, hand_landmarks):\r\n",
    "    df_series = create_df_series_from_landmarks(hand_landmarks, df.columns)\r\n",
    "    return df.append(df_series, ignore_index=True)\r\n",
    "\r\n",
    "def create_df_series_from_landmarks(hand_landmarks, labels):\r\n",
    "    df_row = []\r\n",
    "    for finger_part in hand_landmarks.landmark:\r\n",
    "        df_row.extend([finger_part.x, finger_part.y])\r\n",
    "    return pd.Series(df_row, index=labels)\r\n",
    "\r\n",
    "def extract_multihand_landmarks(hands, image_path):\r\n",
    "    image = cv2.flip(cv2.imread(image_path), 1)\r\n",
    "    return hands.process(cv2.cvtColor(image, cv2.COLOR_BGR2RGB)).multi_hand_landmarks\r\n",
    "\r\n",
    "def save_annotated_image(img_path, save_dir_path, hand_landmarks):\r\n",
    "    annotated_image = cv2.flip(cv2.imread(img_path), 1)\r\n",
    "    save_dir_path.mkdir(parents=True, exist_ok=True)\r\n",
    "    mp_drawing.draw_landmarks(\r\n",
    "      annotated_image, hand_landmarks, mp_hands.HAND_CONNECTIONS)\r\n",
    "    cv2.imwrite(str(save_dir_path / Path(img_path).name), \r\n",
    "                annotated_image)"
   ]
  },
  {
   "cell_type": "code",
   "execution_count": 3,
   "metadata": {},
   "outputs": [
    {
     "name": "stdout",
     "output_type": "stream",
     "text": [
      "skipped_images_count=0\n",
      "[]\n"
     ]
    }
   ],
   "source": [
    "feat_labels = ['WRIST_X', 'WRIST_Y', \r\n",
    "               'THUMB_CMC_X', 'THUMB_CMC_Y',\r\n",
    "               'THUMB_MCP_X', 'THUMB_MCP_Y',\r\n",
    "               'THUMB_IP_X', 'THUMB_IP_Y',\r\n",
    "               'THUMB_TIP_X', 'THUMB_TIP_Y',\r\n",
    "               'INDEX_FINGER_MCP_X', 'INDEX_FINGER_MCP_Y',\r\n",
    "               'INDEX_FINGER_PIP_X', 'INDEX_FINGER_PIP_Y',\r\n",
    "               'INDEX_FINGER_DIP_X', 'INDEX_FINGER_DIP_Y',\r\n",
    "               'INDEX_FINGER_TIP_X', 'INDEX_FINGER_TIP_Y',\r\n",
    "               'MIDDLE_FINGER_MCP_X', 'MIDDLE_FINGER_MCP_Y',\r\n",
    "               'MIDDLE_FINGER_PIP_X', 'MIDDLE_FINGER_PIP_Y',\r\n",
    "               'MIDDLE_FINGER_DIP_X', 'MIDDLE_FINGER_DIP_Y',\r\n",
    "               'MIDDLE_FINGER_TIP_X', 'MIDDLE_FINGER_TIP_Y',\r\n",
    "               'RING_FINGER_MCP_X', 'RING_FINGER_MCP_Y',\r\n",
    "               'RING_FINGER_PIP_X', 'RING_FINGER_PIP_Y',\r\n",
    "               'RING_FINGER_DIP_X', 'RING_FINGER_DIP_Y',\r\n",
    "               'RING_FINGER_TIP_X', 'RING_FINGER_TIP_Y',\r\n",
    "               'PINKY_MCP_X', 'PINKY_MCP_Y',\r\n",
    "               'PINKY_PIP_X', 'PINKY_PIP_Y',\r\n",
    "               'PINKY_DIP_X', 'PINKY_DIP_Y',\r\n",
    "               'PINKY_TIP_X', 'PINKY_TIP_Y']\r\n",
    "\r\n",
    "dataset_path = 'input/office-hands/'\r\n",
    "imgs_paths = glob.glob(dataset_path + '*.jpg')\r\n",
    "save_dir_path = Path('output/office-hands/')\r\n",
    "df = extract_features_from_images(imgs_paths, feat_labels)"
   ]
  },
  {
   "cell_type": "code",
   "execution_count": 4,
   "metadata": {},
   "outputs": [],
   "source": [
    "image_names = [Path(img_path).name for img_path in imgs_paths]\r\n",
    "image_has_clenched_hand = [1, 0, 1, 0, 0, 1, 1, 1, 0, 0, 1, 0, 1, 0, 1, 0, 1, 1, 0, 0, 1, 0, 1, 0, 0, 1, 1, 0, 1, 0, 1, 0, 0, 0, 0, 1, 1, 1, 0]\r\n",
    "\r\n",
    "df[\"CLENCHED\"] = image_has_clenched_hand"
   ]
  },
  {
   "cell_type": "code",
   "execution_count": 5,
   "metadata": {},
   "outputs": [
    {
     "name": "stdout",
     "output_type": "stream",
     "text": [
      "images_count=39\n"
     ]
    },
    {
     "data": {
      "text/html": [
       "<div>\n",
       "<style scoped>\n",
       "    .dataframe tbody tr th:only-of-type {\n",
       "        vertical-align: middle;\n",
       "    }\n",
       "\n",
       "    .dataframe tbody tr th {\n",
       "        vertical-align: top;\n",
       "    }\n",
       "\n",
       "    .dataframe thead th {\n",
       "        text-align: right;\n",
       "    }\n",
       "</style>\n",
       "<table border=\"1\" class=\"dataframe\">\n",
       "  <thead>\n",
       "    <tr style=\"text-align: right;\">\n",
       "      <th></th>\n",
       "      <th>WRIST_X</th>\n",
       "      <th>WRIST_Y</th>\n",
       "      <th>THUMB_CMC_X</th>\n",
       "      <th>THUMB_CMC_Y</th>\n",
       "      <th>THUMB_MCP_X</th>\n",
       "      <th>THUMB_MCP_Y</th>\n",
       "      <th>THUMB_IP_X</th>\n",
       "      <th>THUMB_IP_Y</th>\n",
       "      <th>THUMB_TIP_X</th>\n",
       "      <th>THUMB_TIP_Y</th>\n",
       "      <th>...</th>\n",
       "      <th>RING_FINGER_TIP_Y</th>\n",
       "      <th>PINKY_MCP_X</th>\n",
       "      <th>PINKY_MCP_Y</th>\n",
       "      <th>PINKY_PIP_X</th>\n",
       "      <th>PINKY_PIP_Y</th>\n",
       "      <th>PINKY_DIP_X</th>\n",
       "      <th>PINKY_DIP_Y</th>\n",
       "      <th>PINKY_TIP_X</th>\n",
       "      <th>PINKY_TIP_Y</th>\n",
       "      <th>CLENCHED</th>\n",
       "    </tr>\n",
       "  </thead>\n",
       "  <tbody>\n",
       "    <tr>\n",
       "      <th>0</th>\n",
       "      <td>0.541934</td>\n",
       "      <td>0.720352</td>\n",
       "      <td>0.414919</td>\n",
       "      <td>0.703123</td>\n",
       "      <td>0.308689</td>\n",
       "      <td>0.642927</td>\n",
       "      <td>0.306770</td>\n",
       "      <td>0.572907</td>\n",
       "      <td>0.389018</td>\n",
       "      <td>0.534426</td>\n",
       "      <td>...</td>\n",
       "      <td>0.618966</td>\n",
       "      <td>0.628166</td>\n",
       "      <td>0.595176</td>\n",
       "      <td>0.611389</td>\n",
       "      <td>0.553802</td>\n",
       "      <td>0.583997</td>\n",
       "      <td>0.607423</td>\n",
       "      <td>0.594179</td>\n",
       "      <td>0.625079</td>\n",
       "      <td>1</td>\n",
       "    </tr>\n",
       "    <tr>\n",
       "      <th>1</th>\n",
       "      <td>0.433969</td>\n",
       "      <td>0.738896</td>\n",
       "      <td>0.537043</td>\n",
       "      <td>0.699318</td>\n",
       "      <td>0.600301</td>\n",
       "      <td>0.643829</td>\n",
       "      <td>0.663096</td>\n",
       "      <td>0.591905</td>\n",
       "      <td>0.731177</td>\n",
       "      <td>0.563655</td>\n",
       "      <td>...</td>\n",
       "      <td>0.403782</td>\n",
       "      <td>0.307296</td>\n",
       "      <td>0.635229</td>\n",
       "      <td>0.228765</td>\n",
       "      <td>0.563157</td>\n",
       "      <td>0.174818</td>\n",
       "      <td>0.526724</td>\n",
       "      <td>0.126977</td>\n",
       "      <td>0.494731</td>\n",
       "      <td>0</td>\n",
       "    </tr>\n",
       "    <tr>\n",
       "      <th>2</th>\n",
       "      <td>0.533953</td>\n",
       "      <td>0.645971</td>\n",
       "      <td>0.627443</td>\n",
       "      <td>0.577347</td>\n",
       "      <td>0.665655</td>\n",
       "      <td>0.489724</td>\n",
       "      <td>0.612863</td>\n",
       "      <td>0.423030</td>\n",
       "      <td>0.548872</td>\n",
       "      <td>0.397795</td>\n",
       "      <td>...</td>\n",
       "      <td>0.510668</td>\n",
       "      <td>0.398926</td>\n",
       "      <td>0.542205</td>\n",
       "      <td>0.351689</td>\n",
       "      <td>0.494824</td>\n",
       "      <td>0.379763</td>\n",
       "      <td>0.526072</td>\n",
       "      <td>0.401342</td>\n",
       "      <td>0.545402</td>\n",
       "      <td>1</td>\n",
       "    </tr>\n",
       "    <tr>\n",
       "      <th>3</th>\n",
       "      <td>0.609161</td>\n",
       "      <td>0.540402</td>\n",
       "      <td>0.659801</td>\n",
       "      <td>0.476688</td>\n",
       "      <td>0.648367</td>\n",
       "      <td>0.398441</td>\n",
       "      <td>0.642350</td>\n",
       "      <td>0.327982</td>\n",
       "      <td>0.664129</td>\n",
       "      <td>0.274144</td>\n",
       "      <td>...</td>\n",
       "      <td>0.342554</td>\n",
       "      <td>0.399468</td>\n",
       "      <td>0.524003</td>\n",
       "      <td>0.238571</td>\n",
       "      <td>0.493320</td>\n",
       "      <td>0.144099</td>\n",
       "      <td>0.482857</td>\n",
       "      <td>0.058003</td>\n",
       "      <td>0.472760</td>\n",
       "      <td>0</td>\n",
       "    </tr>\n",
       "    <tr>\n",
       "      <th>4</th>\n",
       "      <td>0.561389</td>\n",
       "      <td>0.647147</td>\n",
       "      <td>0.637801</td>\n",
       "      <td>0.585487</td>\n",
       "      <td>0.668531</td>\n",
       "      <td>0.502849</td>\n",
       "      <td>0.693103</td>\n",
       "      <td>0.430167</td>\n",
       "      <td>0.737338</td>\n",
       "      <td>0.383626</td>\n",
       "      <td>...</td>\n",
       "      <td>0.333455</td>\n",
       "      <td>0.360144</td>\n",
       "      <td>0.585743</td>\n",
       "      <td>0.210237</td>\n",
       "      <td>0.523432</td>\n",
       "      <td>0.119844</td>\n",
       "      <td>0.492974</td>\n",
       "      <td>0.037884</td>\n",
       "      <td>0.465839</td>\n",
       "      <td>0</td>\n",
       "    </tr>\n",
       "  </tbody>\n",
       "</table>\n",
       "<p>5 rows × 43 columns</p>\n",
       "</div>"
      ],
      "text/plain": [
       "    WRIST_X   WRIST_Y  THUMB_CMC_X  THUMB_CMC_Y  THUMB_MCP_X  THUMB_MCP_Y  \\\n",
       "0  0.541934  0.720352     0.414919     0.703123     0.308689     0.642927   \n",
       "1  0.433969  0.738896     0.537043     0.699318     0.600301     0.643829   \n",
       "2  0.533953  0.645971     0.627443     0.577347     0.665655     0.489724   \n",
       "3  0.609161  0.540402     0.659801     0.476688     0.648367     0.398441   \n",
       "4  0.561389  0.647147     0.637801     0.585487     0.668531     0.502849   \n",
       "\n",
       "   THUMB_IP_X  THUMB_IP_Y  THUMB_TIP_X  THUMB_TIP_Y  ...  RING_FINGER_TIP_Y  \\\n",
       "0    0.306770    0.572907     0.389018     0.534426  ...           0.618966   \n",
       "1    0.663096    0.591905     0.731177     0.563655  ...           0.403782   \n",
       "2    0.612863    0.423030     0.548872     0.397795  ...           0.510668   \n",
       "3    0.642350    0.327982     0.664129     0.274144  ...           0.342554   \n",
       "4    0.693103    0.430167     0.737338     0.383626  ...           0.333455   \n",
       "\n",
       "   PINKY_MCP_X  PINKY_MCP_Y  PINKY_PIP_X  PINKY_PIP_Y  PINKY_DIP_X  \\\n",
       "0     0.628166     0.595176     0.611389     0.553802     0.583997   \n",
       "1     0.307296     0.635229     0.228765     0.563157     0.174818   \n",
       "2     0.398926     0.542205     0.351689     0.494824     0.379763   \n",
       "3     0.399468     0.524003     0.238571     0.493320     0.144099   \n",
       "4     0.360144     0.585743     0.210237     0.523432     0.119844   \n",
       "\n",
       "   PINKY_DIP_Y  PINKY_TIP_X  PINKY_TIP_Y  CLENCHED  \n",
       "0     0.607423     0.594179     0.625079         1  \n",
       "1     0.526724     0.126977     0.494731         0  \n",
       "2     0.526072     0.401342     0.545402         1  \n",
       "3     0.482857     0.058003     0.472760         0  \n",
       "4     0.492974     0.037884     0.465839         0  \n",
       "\n",
       "[5 rows x 43 columns]"
      ]
     },
     "execution_count": 5,
     "metadata": {},
     "output_type": "execute_result"
    }
   ],
   "source": [
    "print(f'images_count={len(df.index)}')\r\n",
    "df.head()"
   ]
  },
  {
   "cell_type": "code",
   "execution_count": 6,
   "metadata": {},
   "outputs": [],
   "source": [
    "Y = df[\"CLENCHED\"].copy()\r\n",
    "df = df.drop(columns=[\"CLENCHED\"])"
   ]
  },
  {
   "cell_type": "code",
   "execution_count": 7,
   "metadata": {},
   "outputs": [],
   "source": [
    "Xtrain, Xtest, Ytrain, Ytest = train_test_split(df, Y, test_size=0.3, shuffle=True, random_state = 0)"
   ]
  },
  {
   "cell_type": "code",
   "execution_count": 8,
   "metadata": {},
   "outputs": [
    {
     "data": {
      "text/plain": [
       "0.6666666666666666"
      ]
     },
     "execution_count": 8,
     "metadata": {},
     "output_type": "execute_result"
    }
   ],
   "source": [
    "# Просто к ближайших\r\n",
    "\r\n",
    "K_nn = KNeighborsClassifier()\r\n",
    "K_nn.fit(Xtrain, Ytrain)\r\n",
    "predict = K_nn.predict(Xtest) \r\n",
    "accuracy_score(Ytest, predict)  "
   ]
  },
  {
   "cell_type": "code",
   "execution_count": 9,
   "metadata": {},
   "outputs": [
    {
     "name": "stdout",
     "output_type": "stream",
     "text": [
      "0.5\n"
     ]
    }
   ],
   "source": [
    "# с доп. номрализацией\r\n",
    "\r\n",
    "scaler = StandardScaler(with_mean=True, with_std=True) \r\n",
    "df_scaler = scaler.fit_transform(df)\r\n",
    "Xtrain1, Xtest1, Ytrain1, Ytest1 = train_test_split(df_scaler, Y, test_size=0.3, shuffle=True, random_state=0)\r\n",
    "K_scaler = KNeighborsClassifier()\r\n",
    "K_scaler.fit(Xtrain1, Ytrain1)\r\n",
    "predict_s = K_scaler.predict(Xtest1) \r\n",
    "accuracy_s = accuracy_score(Ytest1, predict_s ) \r\n",
    "print(accuracy_s)\r\n"
   ]
  },
  {
   "cell_type": "code",
   "execution_count": 10,
   "metadata": {},
   "outputs": [
    {
     "name": "stdout",
     "output_type": "stream",
     "text": [
      "[0.875      0.75       0.625      0.75       0.85714286]\n",
      "Mean accuracy on cross_val: 0.7714285714285715\n"
     ]
    }
   ],
   "source": [
    "#крос валидация\r\n",
    "k_nn = KNeighborsClassifier()\r\n",
    "cross_val = cross_val_score(k_nn, df, Y, cv=5) # кросс-валидация на исходных данных\r\n",
    "print(cross_val)\r\n",
    "print(f\"Mean accuracy on cross_val: {np.mean(cross_val)}\")"
   ]
  },
  {
   "cell_type": "code",
   "execution_count": 11,
   "metadata": {},
   "outputs": [
    {
     "name": "stdout",
     "output_type": "stream",
     "text": [
      "[0.75       0.75       0.625      0.75       0.85714286]\n"
     ]
    }
   ],
   "source": [
    "# кросс валидация на доп норм данных\r\n",
    "k_nn = KNeighborsClassifier()\r\n",
    "cross_val = cross_val_score(k_nn, df_scaler, Y, cv=5) # кросс-валидация на исходных данных\r\n",
    "print(cross_val)"
   ]
  },
  {
   "cell_type": "markdown",
   "metadata": {},
   "source": [
    "### Поиск гиппер нужной К\r\n"
   ]
  },
  {
   "cell_type": "code",
   "execution_count": 12,
   "metadata": {},
   "outputs": [],
   "source": [
    "n_neigh = range(2, 10) # количество сосседей\r\n",
    "# словари для метрик\r\n",
    "\r\n",
    "simple_res = { \r\n",
    "    \"train\": [],\r\n",
    "    \"test\": []\r\n",
    "}\r\n",
    "\r\n",
    "scaler_res = {\r\n",
    "    \"train\": [],\r\n",
    "    \"test\": []\r\n",
    "}\r\n",
    "\r\n",
    "for n in n_neigh: # прогон гиперпараметра\r\n",
    "    model = KNeighborsClassifier(n_neighbors=n)\r\n",
    "    model_scaler = KNeighborsClassifier(n_neighbors=n)\r\n",
    "    model.fit(Xtrain, Ytrain)\r\n",
    "    model_scaler.fit(Xtrain1, Ytrain1)\r\n",
    "    simple_res[\"train\"].append(model.score(Xtrain, Ytrain))\r\n",
    "    simple_res[\"test\"].append(model.score(Xtest, Ytest))\r\n",
    "    \r\n",
    "    scaler_res['train'].append(model_scaler.score(Xtrain1, Ytrain1))\r\n",
    "    scaler_res[\"test\"].append(model_scaler.score(Xtest1, Ytest1))"
   ]
  },
  {
   "cell_type": "code",
   "execution_count": 13,
   "metadata": {},
   "outputs": [],
   "source": [
    "# Фнкция для вывода данных \r\n",
    "def print_res(data, scaler=False):\r\n",
    "    for k, v in data.items():\r\n",
    "        if scaler:\r\n",
    "            print(\"С нормализацией\")\r\n",
    "        print(f\"Лучшее accuracy на  {k} = {np.max(v)}\")"
   ]
  },
  {
   "cell_type": "code",
   "execution_count": 14,
   "metadata": {},
   "outputs": [
    {
     "name": "stdout",
     "output_type": "stream",
     "text": [
      "Лучшее accuracy на  train = 0.9629629629629629\n",
      "Лучшее accuracy на  test = 0.8333333333333334\n",
      "____________________________________________________________\n",
      "С нормализацией\n",
      "Лучшее accuracy на  train = 0.9259259259259259\n",
      "С нормализацией\n",
      "Лучшее accuracy на  test = 0.8333333333333334\n"
     ]
    }
   ],
   "source": [
    "print_res(simple_res)\r\n",
    "print(\"___\"*20)\r\n",
    "print_res(scaler_res, scaler=True)"
   ]
  },
  {
   "cell_type": "code",
   "execution_count": 15,
   "metadata": {},
   "outputs": [
    {
     "data": {
      "image/png": "[encoded data removed]",
      "text/plain": [
       "<Figure size 864x864 with 2 Axes>"
      ]
     },
     "metadata": {
      "needs_background": "light"
     },
     "output_type": "display_data"
    }
   ],
   "source": [
    "fig = plt.figure(figsize=(12,12))\r\n",
    "ax1 = fig.add_subplot(211) # два подграфика\r\n",
    "ax2 = fig.add_subplot(212)\r\n",
    "ax1.plot( n_neigh, simple_res[\"train\"], label = \"train\", color='red') # зависимость от числа соседей на обучении\r\n",
    "ax1.plot( n_neigh, simple_res[\"test\"], label = \"test\", color='green') # на тесте\r\n",
    "ax1.set_xlabel(\"Количество соседей\") # названия осей и графика \r\n",
    "ax1.set_ylabel(\"Accuracy\")\r\n",
    "ax1.set_title(\"Подбор гиперпараметра\")\r\n",
    "ax1.legend()\r\n",
    "# тоже самое, но для данных с нормализацией\r\n",
    "ax2.plot( n_neigh, scaler_res[\"train\"], label = \"train\", color='red')\r\n",
    "ax2.plot( n_neigh, scaler_res[\"test\"], label = \"test\", color='darkgreen')\r\n",
    "ax2.set_xlabel(\"Количество соседей\")\r\n",
    "ax2.set_ylabel(\"Точость\")\r\n",
    "ax2.set_title(\"Подбор гиперпараметра на нормализации\")\r\n",
    "ax2.legend()\r\n",
    "plt.show()"
   ]
  },
  {
   "cell_type": "markdown",
   "metadata": {},
   "source": [
    "бинарная классификация"
   ]
  },
  {
   "cell_type": "code",
   "execution_count": 16,
   "metadata": {},
   "outputs": [
    {
     "name": "stdout",
     "output_type": "stream",
     "text": [
      "0    20\n",
      "1    19\n",
      "Name: CLENCHED, dtype: int64\n"
     ]
    }
   ],
   "source": [
    "print(Y.value_counts())"
   ]
  },
  {
   "cell_type": "code",
   "execution_count": 17,
   "metadata": {},
   "outputs": [],
   "source": [
    "def metrics_print(metrics_array, y, y_predict):\r\n",
    "    \"Функция для отображения вывода всех переданных метрик\"\r\n",
    "    for metric in metrics_array:\r\n",
    "        if metric.__name__ == \"classification_report\":\r\n",
    "            print(metric(y, y_predict))\r\n",
    "        else:\r\n",
    "            print(metric.__name__, metric(y, y_predict))"
   ]
  },
  {
   "cell_type": "code",
   "execution_count": 18,
   "metadata": {},
   "outputs": [
    {
     "name": "stdout",
     "output_type": "stream",
     "text": [
      "accuracy_score 0.6666666666666666\n",
      "precision_score 0.5\n",
      "recall_score 1.0\n",
      "f1_score 0.6666666666666666\n",
      "              precision    recall  f1-score   support\n",
      "\n",
      "           0       1.00      0.50      0.67         8\n",
      "           1       0.50      1.00      0.67         4\n",
      "\n",
      "    accuracy                           0.67        12\n",
      "   macro avg       0.75      0.75      0.67        12\n",
      "weighted avg       0.83      0.67      0.67        12\n",
      "\n"
     ]
    }
   ],
   "source": [
    "KNN_Binary = KNeighborsClassifier()\r\n",
    "KNN_Binary.fit(Xtrain, Ytrain) \r\n",
    "predict = KNN_Binary.predict(Xtest)  \r\n",
    "metrics = [accuracy_score, precision_score, recall_score, f1_score, classification_report]\r\n",
    "metrics_print(metrics, Ytest, predict)"
   ]
  },
  {
   "cell_type": "code",
   "execution_count": 19,
   "metadata": {},
   "outputs": [
    {
     "data": {
      "text/plain": [
       "<AxesSubplot:>"
      ]
     },
     "execution_count": 19,
     "metadata": {},
     "output_type": "execute_result"
    },
    {
     "data": {
      "image/png": "[encoded data removed]",
      "text/plain": [
       "<Figure size 720x576 with 2 Axes>"
      ]
     },
     "metadata": {
      "needs_background": "light"
     },
     "output_type": "display_data"
    }
   ],
   "source": [
    "conf_mat = confusion_matrix(Ytest, predict)\r\n",
    "plt.figure(figsize=(10,8))\r\n",
    "sns.heatmap(conf_mat, annot=True)"
   ]
  },
  {
   "cell_type": "code",
   "execution_count": null,
   "metadata": {},
   "outputs": [],
   "source": []
  }
 ],
 "metadata": {
  "interpreter": {
   "hash": "26c71fa0b2a1877045fef87f8c36981d68abb2c7c715b271074d7603c5ae2e67"
  },
  "kernelspec": {
   "display_name": "Python 3.8.8 64-bit ('base': conda)",
   "name": "python3"
  },
  "language_info": {
   "codemirror_mode": {
    "name": "ipython",
    "version": 3
   },
   "file_extension": ".py",
   "mimetype": "text/x-python",
   "name": "python",
   "nbconvert_exporter": "python",
   "pygments_lexer": "ipython3",
   "version": "3.8.8"
  },
  "orig_nbformat": 4
 },
 "nbformat": 4,
 "nbformat_minor": 2
}