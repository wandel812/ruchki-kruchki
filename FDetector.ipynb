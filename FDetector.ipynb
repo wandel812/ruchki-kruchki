{
 "cells": [
  {
   "cell_type": "code",
   "execution_count": 1,
   "metadata": {},
   "outputs": [],
   "source": [
    "\r\n",
    "import cv2\r\n",
    "import numpy as np"
   ]
  },
  {
   "cell_type": "code",
   "execution_count": 4,
   "metadata": {},
   "outputs": [],
   "source": [
    "import mediapipe as mp\n"
   ]
  },
  {
   "cell_type": "code",
   "execution_count": 2,
   "metadata": {},
   "outputs": [],
   "source": [
    "cap = cv2.VideoCapture(0)"
   ]
  },
  {
   "cell_type": "code",
   "execution_count": 5,
   "metadata": {
    "collapsed": true,
    "jupyter": {
     "outputs_hidden": true
    },
    "tags": []
   },
   "outputs": [],
   "source": [
    "# VideoCapture\r\n",
    "mp_drawing = mp.solutions.drawing_utils\r\n",
    "mp_hands = mp.solutions.hands\r\n",
    "landmarks = []\r\n",
    "with mp_hands.Hands(\r\n",
    "    min_detection_confidence=0.5,\r\n",
    "    min_tracking_confidence=0.5) as hands:\r\n",
    "    while cap.isOpened():\r\n",
    "        success, image = cap.read()\r\n",
    "        if not success:\r\n",
    "            print(\"Ignoring empty camera frame.\")\r\n",
    "          # If loading  a video, use 'break' instead of 'continue'.\r\n",
    "            continue\r\n",
    "\r\n",
    "    # Flip the image horizontally for a later selfie-view display, and convert\r\n",
    "    # the BGR image to RGB.\r\n",
    "        image = cv2.cvtColor(cv2.flip(image, 1), cv2.COLOR_BGR2RGB)\r\n",
    "    # To improve performance, optionally mark the image as not writeable to\r\n",
    "    # pass by reference.\r\n",
    "        image.flags.writeable = True\r\n",
    "        results = hands.process(image)\r\n",
    "\r\n",
    "    # Draw the hand annotations on the image.\r\n",
    "        image.flags.writeable = True\r\n",
    "        image = cv2.cvtColor(image, cv2.COLOR_RGB2BGR)\r\n",
    "        if results.multi_hand_landmarks:\r\n",
    "            for hand_landmarks in results.multi_hand_landmarks:\r\n",
    "                landmarks.append(hand_landmarks)\r\n",
    "                mp_drawing.draw_landmarks(\r\n",
    "                    image, hand_landmarks, mp_hands.HAND_CONNECTIONS)\r\n",
    "                cv2.imshow('MediaPipe Hands', image)\r\n",
    "        if cv2.waitKey(5) & 0xFF == 27:\r\n",
    "            break\r\n",
    "            \r\n",
    "cap.release()"
   ]
  },
  {
   "cell_type": "code",
   "execution_count": 5,
   "metadata": {
    "collapsed": true,
    "jupyter": {
     "outputs_hidden": true
    },
    "tags": []
   },
   "outputs": [
    {
     "name": "stdout",
     "output_type": "stream",
     "text": [
      "Handedness: None\n"
     ]
    }
   ],
   "source": [
    "# Static image\r\n",
    "import cv2\r\n",
    "import mediapipe as mp\r\n",
    "mp_drawing = mp.solutions.drawing_utils\r\n",
    "mp_hands = mp.solutions.hands\r\n",
    "\r\n",
    "# For static images:\r\n",
    "IMAGE_FILES = [\"Screenshot_1.png\"]\r\n",
    "with mp_hands.Hands(\r\n",
    "    static_image_mode=True,\r\n",
    "    max_num_hands=2,\r\n",
    "    min_detection_confidence=0.5) as hands:\r\n",
    "    for idx, file in enumerate(IMAGE_FILES):\r\n",
    "    # Read an image, flip it around y-axis for correct handedness output (see\r\n",
    "    # above).\r\n",
    "        image = cv2.flip(cv2.imread(file), 1)\r\n",
    "    # Convert the BGR image to RGB before processing.\r\n",
    "        results = hands.process(cv2.cvtColor(image, cv2.COLOR_BGR2RGB))\r\n",
    "\r\n",
    "    # Print handedness and draw hand landmarks on the image.\r\n",
    "        print('Handedness:', results.multi_handedness)\r\n",
    "        if not results.multi_hand_landmarks:\r\n",
    "            continue\r\n",
    "        image_height, image_width, _ = image.shape\r\n",
    "        annotated_image = image.copy()\r\n",
    "        for hand_landmarks in results.multi_hand_landmarks:\r\n",
    "            print('hand_landmarks:', hand_landmarks)\r\n",
    "            print(\r\n",
    "              f'Index finger tip coordinates: (',\r\n",
    "              f'{hand_landmarks.landmark[mp_hands.HandLandmark.INDEX_FINGER_TIP].x * image_width}, '\r\n",
    "              f'{hand_landmarks.landmark[mp_hands.HandLandmark.INDEX_FINGER_TIP].y * image_height})'\r\n",
    "      )\r\n",
    "            mp_drawing.draw_landmarks(\r\n",
    "              annotated_image, hand_landmarks, mp_hands.HAND_CONNECTIONS)\r\n",
    "            cv2.imwrite(\r\n",
    "                f'{file.split(\".\")[0]}' + str(idx) + '.png', cv2.flip(annotated_image, 1))"
   ]
  },
  {
   "cell_type": "code",
   "execution_count": 6,
   "metadata": {},
   "outputs": [
    {
     "data": {
      "text/plain": [
       "mappingproxy({'_generate_next_value_': <function enum.Enum._generate_next_value_(name, start, count, last_values)>,\n",
       "              '__module__': 'mediapipe.python.solutions.hands',\n",
       "              '__doc__': 'The 21 hand landmarks.',\n",
       "              '_member_names_': ['WRIST',\n",
       "               'THUMB_CMC',\n",
       "               'THUMB_MCP',\n",
       "               'THUMB_IP',\n",
       "               'THUMB_TIP',\n",
       "               'INDEX_FINGER_MCP',\n",
       "               'INDEX_FINGER_PIP',\n",
       "               'INDEX_FINGER_DIP',\n",
       "               'INDEX_FINGER_TIP',\n",
       "               'MIDDLE_FINGER_MCP',\n",
       "               'MIDDLE_FINGER_PIP',\n",
       "               'MIDDLE_FINGER_DIP',\n",
       "               'MIDDLE_FINGER_TIP',\n",
       "               'RING_FINGER_MCP',\n",
       "               'RING_FINGER_PIP',\n",
       "               'RING_FINGER_DIP',\n",
       "               'RING_FINGER_TIP',\n",
       "               'PINKY_MCP',\n",
       "               'PINKY_PIP',\n",
       "               'PINKY_DIP',\n",
       "               'PINKY_TIP'],\n",
       "              '_member_map_': {'WRIST': <HandLandmark.WRIST: 0>,\n",
       "               'THUMB_CMC': <HandLandmark.THUMB_CMC: 1>,\n",
       "               'THUMB_MCP': <HandLandmark.THUMB_MCP: 2>,\n",
       "               'THUMB_IP': <HandLandmark.THUMB_IP: 3>,\n",
       "               'THUMB_TIP': <HandLandmark.THUMB_TIP: 4>,\n",
       "               'INDEX_FINGER_MCP': <HandLandmark.INDEX_FINGER_MCP: 5>,\n",
       "               'INDEX_FINGER_PIP': <HandLandmark.INDEX_FINGER_PIP: 6>,\n",
       "               'INDEX_FINGER_DIP': <HandLandmark.INDEX_FINGER_DIP: 7>,\n",
       "               'INDEX_FINGER_TIP': <HandLandmark.INDEX_FINGER_TIP: 8>,\n",
       "               'MIDDLE_FINGER_MCP': <HandLandmark.MIDDLE_FINGER_MCP: 9>,\n",
       "               'MIDDLE_FINGER_PIP': <HandLandmark.MIDDLE_FINGER_PIP: 10>,\n",
       "               'MIDDLE_FINGER_DIP': <HandLandmark.MIDDLE_FINGER_DIP: 11>,\n",
       "               'MIDDLE_FINGER_TIP': <HandLandmark.MIDDLE_FINGER_TIP: 12>,\n",
       "               'RING_FINGER_MCP': <HandLandmark.RING_FINGER_MCP: 13>,\n",
       "               'RING_FINGER_PIP': <HandLandmark.RING_FINGER_PIP: 14>,\n",
       "               'RING_FINGER_DIP': <HandLandmark.RING_FINGER_DIP: 15>,\n",
       "               'RING_FINGER_TIP': <HandLandmark.RING_FINGER_TIP: 16>,\n",
       "               'PINKY_MCP': <HandLandmark.PINKY_MCP: 17>,\n",
       "               'PINKY_PIP': <HandLandmark.PINKY_PIP: 18>,\n",
       "               'PINKY_DIP': <HandLandmark.PINKY_DIP: 19>,\n",
       "               'PINKY_TIP': <HandLandmark.PINKY_TIP: 20>},\n",
       "              '_member_type_': int,\n",
       "              '_value2member_map_': {0: <HandLandmark.WRIST: 0>,\n",
       "               1: <HandLandmark.THUMB_CMC: 1>,\n",
       "               2: <HandLandmark.THUMB_MCP: 2>,\n",
       "               3: <HandLandmark.THUMB_IP: 3>,\n",
       "               4: <HandLandmark.THUMB_TIP: 4>,\n",
       "               5: <HandLandmark.INDEX_FINGER_MCP: 5>,\n",
       "               6: <HandLandmark.INDEX_FINGER_PIP: 6>,\n",
       "               7: <HandLandmark.INDEX_FINGER_DIP: 7>,\n",
       "               8: <HandLandmark.INDEX_FINGER_TIP: 8>,\n",
       "               9: <HandLandmark.MIDDLE_FINGER_MCP: 9>,\n",
       "               10: <HandLandmark.MIDDLE_FINGER_PIP: 10>,\n",
       "               11: <HandLandmark.MIDDLE_FINGER_DIP: 11>,\n",
       "               12: <HandLandmark.MIDDLE_FINGER_TIP: 12>,\n",
       "               13: <HandLandmark.RING_FINGER_MCP: 13>,\n",
       "               14: <HandLandmark.RING_FINGER_PIP: 14>,\n",
       "               15: <HandLandmark.RING_FINGER_DIP: 15>,\n",
       "               16: <HandLandmark.RING_FINGER_TIP: 16>,\n",
       "               17: <HandLandmark.PINKY_MCP: 17>,\n",
       "               18: <HandLandmark.PINKY_PIP: 18>,\n",
       "               19: <HandLandmark.PINKY_DIP: 19>,\n",
       "               20: <HandLandmark.PINKY_TIP: 20>},\n",
       "              'WRIST': <HandLandmark.WRIST: 0>,\n",
       "              'THUMB_CMC': <HandLandmark.THUMB_CMC: 1>,\n",
       "              'THUMB_MCP': <HandLandmark.THUMB_MCP: 2>,\n",
       "              'THUMB_IP': <HandLandmark.THUMB_IP: 3>,\n",
       "              'THUMB_TIP': <HandLandmark.THUMB_TIP: 4>,\n",
       "              'INDEX_FINGER_MCP': <HandLandmark.INDEX_FINGER_MCP: 5>,\n",
       "              'INDEX_FINGER_PIP': <HandLandmark.INDEX_FINGER_PIP: 6>,\n",
       "              'INDEX_FINGER_DIP': <HandLandmark.INDEX_FINGER_DIP: 7>,\n",
       "              'INDEX_FINGER_TIP': <HandLandmark.INDEX_FINGER_TIP: 8>,\n",
       "              'MIDDLE_FINGER_MCP': <HandLandmark.MIDDLE_FINGER_MCP: 9>,\n",
       "              'MIDDLE_FINGER_PIP': <HandLandmark.MIDDLE_FINGER_PIP: 10>,\n",
       "              'MIDDLE_FINGER_DIP': <HandLandmark.MIDDLE_FINGER_DIP: 11>,\n",
       "              'MIDDLE_FINGER_TIP': <HandLandmark.MIDDLE_FINGER_TIP: 12>,\n",
       "              'RING_FINGER_MCP': <HandLandmark.RING_FINGER_MCP: 13>,\n",
       "              'RING_FINGER_PIP': <HandLandmark.RING_FINGER_PIP: 14>,\n",
       "              'RING_FINGER_DIP': <HandLandmark.RING_FINGER_DIP: 15>,\n",
       "              'RING_FINGER_TIP': <HandLandmark.RING_FINGER_TIP: 16>,\n",
       "              'PINKY_MCP': <HandLandmark.PINKY_MCP: 17>,\n",
       "              'PINKY_PIP': <HandLandmark.PINKY_PIP: 18>,\n",
       "              'PINKY_DIP': <HandLandmark.PINKY_DIP: 19>,\n",
       "              'PINKY_TIP': <HandLandmark.PINKY_TIP: 20>,\n",
       "              '__new__': <function enum.Enum.__new__(cls, value)>})"
      ]
     },
     "execution_count": 6,
     "metadata": {},
     "output_type": "execute_result"
    }
   ],
   "source": [
    "# list of named key points\n",
    "mp_hands.HandLandmark.__dict__"
   ]
  }
 ],
 "metadata": {
  "interpreter": {
   "hash": "26c71fa0b2a1877045fef87f8c36981d68abb2c7c715b271074d7603c5ae2e67"
  },
  "kernelspec": {
   "display_name": "Python 3.8.8 64-bit ('base': conda)",
   "name": "python3"
  },
  "language_info": {
   "codemirror_mode": {
    "name": "ipython",
    "version": 3
   },
   "file_extension": ".py",
   "mimetype": "text/x-python",
   "name": "python",
   "nbconvert_exporter": "python",
   "pygments_lexer": "ipython3",
   "version": "3.8.8"
  }
 },
 "nbformat": 4,
 "nbformat_minor": 4
}